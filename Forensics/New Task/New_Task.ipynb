{
  "cells": [
    {
      "cell_type": "markdown",
      "metadata": {
        "id": "view-in-github",
        "colab_type": "text"
      },
      "source": [
        "<a href=\"https://colab.research.google.com/github/Thoybur-Rohman/HackTheBox/blob/main/Forensics/New%20Task/New_Task.ipynb\" target=\"_parent\"><img src=\"https://colab.research.google.com/assets/colab-badge.svg\" alt=\"Open In Colab\"/></a>"
      ]
    },
    {
      "cell_type": "code",
      "source": [
        "# Digital Forensics Registry Analysis - Step-by-Step Guide\n",
        "\n",
        "## 1. Challenge Overview\n",
        "You were given Windows registry hive files from a compromised computer. The goal: Find out how an attacker maintained persistence (kept access) on the system.\n",
        "\n",
        "## 2. Why Search the Registry?\n",
        "Attackers often use the Windows registry to set up programs that run automatically when a user logs in or the system starts. The most common place: `HKEY_CURRENT_USER\\Software\\Microsoft\\Windows\\CurrentVersion\\Run`. We searched here because it’s a well-known persistence location.\n",
        "\n",
        "## 3. Searching for Suspicious Entries\n",
        "```bash\n",
        "reglookup /home/gitduck/Desktop/forensics_new_task/software | grep -i \"CurrentVersion\\\\Run\"\n",
        "```\n",
        "This finds all programs set to run at startup. We found a suspicious entry launching PowerShell with a command that loads something from the registry.\n",
        "\n",
        "## 4. Understanding the Suspicious Command\n",
        "The command referenced another registry value: `HKLM:SOFTWARE\\Microsoft\\Windows\\CurrentVersion Debug`. This means the actual malicious code (payload) is stored elsewhere in the registry.\n",
        "\n",
        "## 5. Why Search for \"Debug\"?\n",
        "```bash\n",
        "reglookup /home/gitduck/Desktop/forensics_new_task/software | grep -i \"Debug\"\n",
        "```\n",
        "We searched for \"Debug\" to find the payload the attacker hid. This is a common trick: use one registry key to trigger code, and another to store the code.\n",
        "\n",
        "## 6. Extracting the Payload\n",
        "We found a value like: `/Microsoft/Windows/CurrentVersion/Debug,SZ,<long string>`. The `<long string>` is the actual payload, usually encoded to hide its contents.\n",
        "\n",
        "## 7. Why Decode? Why Base64?\n",
        "Attackers encode payloads (often in base64 or Unicode) to avoid detection and make analysis harder. PowerShell often uses UTF-16LE encoding, so we need to decode both base64 and convert the text.\n",
        "\n",
        "## 8. How to Decode\n",
        "```bash\n",
        "# Save the string to a file\n",
        "echo \"<long string>\" > payload.b64\n",
        "# Decode and convert to readable text\n",
        "base64 -d payload.b64 | iconv -f UTF-16LE -t UTF-8 > decoded_payload.txt\n",
        "```\n",
        "This reveals the actual PowerShell script the attacker used.\n",
        "\n",
        "## 9. What Did We Find?\n",
        "The decoded script disables security features (like AMSI), downloads more malware, and ensures the attacker keeps access. The flag for the challenge is usually hidden in this script.\n",
        "\n",
        "## 10. Why These Steps Matter\n",
        "Searching known persistence locations helps you quickly find how attackers stay on a system. Understanding encoding and decoding lets you reveal hidden payloads. These skills are essential for digital forensics, incident response, and malware analysis.\n",
        "\n",
        "## 11. Key Takeaways for Beginners\n",
        "- Always check registry Run keys for persistence.\n",
        "- Look for references to other registry values—attackers often split their payloads.\n",
        "- Learn to decode base64 and Unicode—most malware uses these tricks.\n",
        "- Document every step for repeatability and reporting.\n"
      ],
      "metadata": {
        "id": "RGn5F116uwo4"
      },
      "execution_count": null,
      "outputs": []
    }
  ],
  "metadata": {
    "accelerator": "GPU",
    "colab": {
      "gpuType": "T4",
      "provenance": [],
      "authorship_tag": "ABX9TyOdzA0er9n2gmT1TcM0KujL",
      "include_colab_link": true
    },
    "kernelspec": {
      "display_name": "Python 3",
      "name": "python3"
    },
    "language_info": {
      "name": "python"
    }
  },
  "nbformat": 4,
  "nbformat_minor": 0
}